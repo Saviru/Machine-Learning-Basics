{
 "cells": [
  {
   "cell_type": "code",
   "execution_count": 12,
   "id": "a47aa7d9",
   "metadata": {},
   "outputs": [
    {
     "data": {
      "application/vnd.microsoft.datawrangler.viewer.v0+json": {
       "columns": [
        {
         "name": "index",
         "rawType": "int64",
         "type": "integer"
        },
        {
         "name": "age",
         "rawType": "int64",
         "type": "integer"
        },
        {
         "name": "gender",
         "rawType": "int64",
         "type": "integer"
        },
        {
         "name": "genre",
         "rawType": "object",
         "type": "string"
        }
       ],
       "ref": "ad633ed9-2bcb-4ee8-a5b0-163fca4ce48f",
       "rows": [
        [
         "0",
         "20",
         "1",
         "HipHop"
        ],
        [
         "1",
         "23",
         "1",
         "HipHop"
        ],
        [
         "2",
         "25",
         "1",
         "HipHop"
        ],
        [
         "3",
         "26",
         "1",
         "Jazz"
        ],
        [
         "4",
         "29",
         "1",
         "Jazz"
        ],
        [
         "5",
         "30",
         "1",
         "Jazz"
        ],
        [
         "6",
         "31",
         "1",
         "Classical"
        ],
        [
         "7",
         "33",
         "1",
         "Classical"
        ],
        [
         "8",
         "37",
         "1",
         "Classical"
        ],
        [
         "9",
         "20",
         "0",
         "Dance"
        ],
        [
         "10",
         "21",
         "0",
         "Dance"
        ],
        [
         "11",
         "25",
         "0",
         "Dance"
        ],
        [
         "12",
         "26",
         "0",
         "Acoustic"
        ],
        [
         "13",
         "27",
         "0",
         "Acoustic"
        ],
        [
         "14",
         "30",
         "0",
         "Acoustic"
        ],
        [
         "15",
         "31",
         "0",
         "Classical"
        ],
        [
         "16",
         "34",
         "0",
         "Classical"
        ],
        [
         "17",
         "35",
         "0",
         "Classical"
        ]
       ],
       "shape": {
        "columns": 3,
        "rows": 18
       }
      },
      "text/html": [
       "<div>\n",
       "<style scoped>\n",
       "    .dataframe tbody tr th:only-of-type {\n",
       "        vertical-align: middle;\n",
       "    }\n",
       "\n",
       "    .dataframe tbody tr th {\n",
       "        vertical-align: top;\n",
       "    }\n",
       "\n",
       "    .dataframe thead th {\n",
       "        text-align: right;\n",
       "    }\n",
       "</style>\n",
       "<table border=\"1\" class=\"dataframe\">\n",
       "  <thead>\n",
       "    <tr style=\"text-align: right;\">\n",
       "      <th></th>\n",
       "      <th>age</th>\n",
       "      <th>gender</th>\n",
       "      <th>genre</th>\n",
       "    </tr>\n",
       "  </thead>\n",
       "  <tbody>\n",
       "    <tr>\n",
       "      <th>0</th>\n",
       "      <td>20</td>\n",
       "      <td>1</td>\n",
       "      <td>HipHop</td>\n",
       "    </tr>\n",
       "    <tr>\n",
       "      <th>1</th>\n",
       "      <td>23</td>\n",
       "      <td>1</td>\n",
       "      <td>HipHop</td>\n",
       "    </tr>\n",
       "    <tr>\n",
       "      <th>2</th>\n",
       "      <td>25</td>\n",
       "      <td>1</td>\n",
       "      <td>HipHop</td>\n",
       "    </tr>\n",
       "    <tr>\n",
       "      <th>3</th>\n",
       "      <td>26</td>\n",
       "      <td>1</td>\n",
       "      <td>Jazz</td>\n",
       "    </tr>\n",
       "    <tr>\n",
       "      <th>4</th>\n",
       "      <td>29</td>\n",
       "      <td>1</td>\n",
       "      <td>Jazz</td>\n",
       "    </tr>\n",
       "    <tr>\n",
       "      <th>5</th>\n",
       "      <td>30</td>\n",
       "      <td>1</td>\n",
       "      <td>Jazz</td>\n",
       "    </tr>\n",
       "    <tr>\n",
       "      <th>6</th>\n",
       "      <td>31</td>\n",
       "      <td>1</td>\n",
       "      <td>Classical</td>\n",
       "    </tr>\n",
       "    <tr>\n",
       "      <th>7</th>\n",
       "      <td>33</td>\n",
       "      <td>1</td>\n",
       "      <td>Classical</td>\n",
       "    </tr>\n",
       "    <tr>\n",
       "      <th>8</th>\n",
       "      <td>37</td>\n",
       "      <td>1</td>\n",
       "      <td>Classical</td>\n",
       "    </tr>\n",
       "    <tr>\n",
       "      <th>9</th>\n",
       "      <td>20</td>\n",
       "      <td>0</td>\n",
       "      <td>Dance</td>\n",
       "    </tr>\n",
       "    <tr>\n",
       "      <th>10</th>\n",
       "      <td>21</td>\n",
       "      <td>0</td>\n",
       "      <td>Dance</td>\n",
       "    </tr>\n",
       "    <tr>\n",
       "      <th>11</th>\n",
       "      <td>25</td>\n",
       "      <td>0</td>\n",
       "      <td>Dance</td>\n",
       "    </tr>\n",
       "    <tr>\n",
       "      <th>12</th>\n",
       "      <td>26</td>\n",
       "      <td>0</td>\n",
       "      <td>Acoustic</td>\n",
       "    </tr>\n",
       "    <tr>\n",
       "      <th>13</th>\n",
       "      <td>27</td>\n",
       "      <td>0</td>\n",
       "      <td>Acoustic</td>\n",
       "    </tr>\n",
       "    <tr>\n",
       "      <th>14</th>\n",
       "      <td>30</td>\n",
       "      <td>0</td>\n",
       "      <td>Acoustic</td>\n",
       "    </tr>\n",
       "    <tr>\n",
       "      <th>15</th>\n",
       "      <td>31</td>\n",
       "      <td>0</td>\n",
       "      <td>Classical</td>\n",
       "    </tr>\n",
       "    <tr>\n",
       "      <th>16</th>\n",
       "      <td>34</td>\n",
       "      <td>0</td>\n",
       "      <td>Classical</td>\n",
       "    </tr>\n",
       "    <tr>\n",
       "      <th>17</th>\n",
       "      <td>35</td>\n",
       "      <td>0</td>\n",
       "      <td>Classical</td>\n",
       "    </tr>\n",
       "  </tbody>\n",
       "</table>\n",
       "</div>"
      ],
      "text/plain": [
       "    age  gender      genre\n",
       "0    20       1     HipHop\n",
       "1    23       1     HipHop\n",
       "2    25       1     HipHop\n",
       "3    26       1       Jazz\n",
       "4    29       1       Jazz\n",
       "5    30       1       Jazz\n",
       "6    31       1  Classical\n",
       "7    33       1  Classical\n",
       "8    37       1  Classical\n",
       "9    20       0      Dance\n",
       "10   21       0      Dance\n",
       "11   25       0      Dance\n",
       "12   26       0   Acoustic\n",
       "13   27       0   Acoustic\n",
       "14   30       0   Acoustic\n",
       "15   31       0  Classical\n",
       "16   34       0  Classical\n",
       "17   35       0  Classical"
      ]
     },
     "execution_count": 12,
     "metadata": {},
     "output_type": "execute_result"
    }
   ],
   "source": [
    "import pandas as pd\n",
    "from sklearn.tree import DecisionTreeClassifier\n",
    "\n",
    "## Preparing the data\n",
    "\n",
    "music_data = pd.read_csv(\"music.csv\") #Read the data\n",
    "\n",
    "music_data"
   ]
  },
  {
   "cell_type": "code",
   "execution_count": 13,
   "id": "7d4e11fb",
   "metadata": {},
   "outputs": [
    {
     "data": {
      "application/vnd.microsoft.datawrangler.viewer.v0+json": {
       "columns": [
        {
         "name": "index",
         "rawType": "int64",
         "type": "integer"
        },
        {
         "name": "genre",
         "rawType": "object",
         "type": "string"
        }
       ],
       "ref": "43d88fef-6cb2-4896-bfad-49c61b138ed4",
       "rows": [
        [
         "0",
         "HipHop"
        ],
        [
         "1",
         "HipHop"
        ],
        [
         "2",
         "HipHop"
        ],
        [
         "3",
         "Jazz"
        ],
        [
         "4",
         "Jazz"
        ],
        [
         "5",
         "Jazz"
        ],
        [
         "6",
         "Classical"
        ],
        [
         "7",
         "Classical"
        ],
        [
         "8",
         "Classical"
        ],
        [
         "9",
         "Dance"
        ],
        [
         "10",
         "Dance"
        ],
        [
         "11",
         "Dance"
        ],
        [
         "12",
         "Acoustic"
        ],
        [
         "13",
         "Acoustic"
        ],
        [
         "14",
         "Acoustic"
        ],
        [
         "15",
         "Classical"
        ],
        [
         "16",
         "Classical"
        ],
        [
         "17",
         "Classical"
        ]
       ],
       "shape": {
        "columns": 1,
        "rows": 18
       }
      },
      "text/plain": [
       "0        HipHop\n",
       "1        HipHop\n",
       "2        HipHop\n",
       "3          Jazz\n",
       "4          Jazz\n",
       "5          Jazz\n",
       "6     Classical\n",
       "7     Classical\n",
       "8     Classical\n",
       "9         Dance\n",
       "10        Dance\n",
       "11        Dance\n",
       "12     Acoustic\n",
       "13     Acoustic\n",
       "14     Acoustic\n",
       "15    Classical\n",
       "16    Classical\n",
       "17    Classical\n",
       "Name: genre, dtype: object"
      ]
     },
     "execution_count": 13,
     "metadata": {},
     "output_type": "execute_result"
    }
   ],
   "source": [
    "# Split the data (input/Output sets)\n",
    "\n",
    "X = music_data.drop(columns=[\"genre\"]) #input\n",
    "Y = music_data[\"genre\"] #Predicted output\n",
    "\n",
    "Y"
   ]
  },
  {
   "cell_type": "code",
   "execution_count": 14,
   "id": "3804b060",
   "metadata": {},
   "outputs": [
    {
     "name": "stderr",
     "output_type": "stream",
     "text": [
      "c:\\Python312\\Lib\\site-packages\\sklearn\\utils\\validation.py:2749: UserWarning: X does not have valid feature names, but DecisionTreeClassifier was fitted with feature names\n",
      "  warnings.warn(\n"
     ]
    },
    {
     "data": {
      "text/plain": [
       "array(['HipHop', 'Dance'], dtype=object)"
      ]
     },
     "execution_count": 14,
     "metadata": {},
     "output_type": "execute_result"
    }
   ],
   "source": [
    "## Learning and Prediction\n",
    "\n",
    "model = DecisionTreeClassifier()\n",
    "model.fit(X, Y) #Train the model\n",
    "\n",
    "predictions = model.predict([ [21,1], [22,0] ])  # Predicting genre for a 21-year-old male and a 22-year-old female\n",
    "predictions"
   ]
  },
  {
   "cell_type": "code",
   "execution_count": 15,
   "id": "716b3d8e",
   "metadata": {},
   "outputs": [
    {
     "name": "stdout",
     "output_type": "stream",
     "text": [
      "    age  gender\n",
      "11   25       0\n",
      "6    31       1\n",
      "12   26       0\n",
      "14   30       0\n"
     ]
    },
    {
     "data": {
      "text/plain": [
       "array(['Dance', 'Classical', 'Acoustic', 'Acoustic'], dtype=object)"
      ]
     },
     "execution_count": 15,
     "metadata": {},
     "output_type": "execute_result"
    }
   ],
   "source": [
    "## Calculating accuracy\n",
    "\n",
    "from sklearn.model_selection import train_test_split #helpful for splitting the data into training and testing sets\n",
    "\n",
    "X_train, X_test, Y_train, Y_test = train_test_split(X, Y, test_size=0.2) #Splitting the data into training and testing sets.\n",
    "\n",
    "'''\n",
    "0.2 means 20% of the data will be used for testing and 80% for training.\n",
    "It returns an tuple of four elements: X_train, X_test, Y_train, Y_test.\n",
    "'''\n",
    "\n",
    "print(X_test) #Print the test data\n",
    "\n",
    "model.fit(X_train, Y_train) #Train the model with training data\n",
    "\n",
    "predictions = model.predict(X_test) #Predicting the genre for the test data\n",
    "\n",
    "predictions\n",
    "\n",
    "\n"
   ]
  },
  {
   "cell_type": "code",
   "execution_count": null,
   "id": "d4181280",
   "metadata": {},
   "outputs": [
    {
     "data": {
      "text/plain": [
       "1.0"
      ]
     },
     "execution_count": 18,
     "metadata": {},
     "output_type": "execute_result"
    }
   ],
   "source": [
    "from sklearn.metrics import accuracy_score\n",
    "\n",
    "score = accuracy_score(Y_test, predictions) #Calculating the accuracy of the model by comparing the actual and predicted values\n",
    "score\n",
    "\n",
    "# Accuracy increases with more data"
   ]
  },
  {
   "cell_type": "code",
   "execution_count": null,
   "id": "e17b14b0",
   "metadata": {},
   "outputs": [
    {
     "name": "stdout",
     "output_type": "stream",
     "text": [
      "Requirement already satisfied: joblib in c:\\python312\\lib\\site-packages (1.5.1)\n"
     ]
    },
    {
     "name": "stderr",
     "output_type": "stream",
     "text": [
      "\n",
      "[notice] A new release of pip is available: 25.1.1 -> 25.2\n",
      "[notice] To update, run: python.exe -m pip install --upgrade pip\n"
     ]
    },
    {
     "data": {
      "text/plain": [
       "['music_recommender.joblib']"
      ]
     },
     "execution_count": 20,
     "metadata": {},
     "output_type": "execute_result"
    }
   ],
   "source": [
    "## Storing the model as a file\n",
    "# This allows you to reuse the model without retraining it every time.\n",
    "\n",
    "!pip install joblib\n",
    "\n",
    "import joblib\n",
    "\n",
    "joblib.dump(model, 'music_recommender.joblib') #Saving the model as a file"
   ]
  },
  {
   "cell_type": "code",
   "execution_count": null,
   "id": "1d3b9f3b",
   "metadata": {},
   "outputs": [],
   "source": []
  }
 ],
 "metadata": {
  "kernelspec": {
   "display_name": "Python 3",
   "language": "python",
   "name": "python3"
  },
  "language_info": {
   "codemirror_mode": {
    "name": "ipython",
    "version": 3
   },
   "file_extension": ".py",
   "mimetype": "text/x-python",
   "name": "python",
   "nbconvert_exporter": "python",
   "pygments_lexer": "ipython3",
   "version": "3.12.3"
  }
 },
 "nbformat": 4,
 "nbformat_minor": 5
}
