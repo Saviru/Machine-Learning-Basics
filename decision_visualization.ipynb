{
 "cells": [
  {
   "cell_type": "code",
   "execution_count": 2,
   "id": "19c9d85d",
   "metadata": {},
   "outputs": [],
   "source": [
    "## Visualizing the Decision Tree\n",
    "\n",
    "import pandas as pd\n",
    "from sklearn.tree import DecisionTreeClassifier\n",
    "\n",
    "music_data = pd.read_csv(\"music.csv\")\n",
    "x = music_data.drop(columns=['genre'])\n",
    "y = music_data['genre']\n",
    "\n",
    "model = DecisionTreeClassifier()\n",
    "model.fit(x, y)\n",
    "\n",
    "#Visualization process starts here\n",
    "\n",
    "from sklearn import tree\n",
    "\n",
    "tree.export_graphviz(model, out_file='music_recommender.dot', # Export the decision tree to a .dot file (Graphviz format)\n",
    "                     feature_names=['age', 'gender'], # Feature names for the decision tree\n",
    "                     class_names=sorted(y.unique()),  # Sort class names for consistency (lables in output)\n",
    "                     label='all', # Label all nodes with their class names\n",
    "                     rounded=True, # Round the corners of the nodes for better aesthetics\n",
    "                     filled=True) # Fill the nodes with colors based on the class they represent\n",
    "\n",
    "\n"
   ]
  }
 ],
 "metadata": {
  "kernelspec": {
   "display_name": "Python 3",
   "language": "python",
   "name": "python3"
  },
  "language_info": {
   "codemirror_mode": {
    "name": "ipython",
    "version": 3
   },
   "file_extension": ".py",
   "mimetype": "text/x-python",
   "name": "python",
   "nbconvert_exporter": "python",
   "pygments_lexer": "ipython3",
   "version": "3.12.3"
  }
 },
 "nbformat": 4,
 "nbformat_minor": 5
}
